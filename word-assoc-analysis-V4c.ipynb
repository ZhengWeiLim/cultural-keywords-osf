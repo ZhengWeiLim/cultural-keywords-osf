{
 "cells": [
  {
   "cell_type": "code",
   "execution_count": 2,
   "id": "5907672e",
   "metadata": {},
   "outputs": [],
   "source": [
    "import csv\n",
    "import copy\n",
    "import json\n",
    "import numpy as np\n",
    "import matplotlib.pyplot as plt\n",
    "%matplotlib inline\n",
    "\n",
    "source = \"en\"   \n",
    "target=[\"nl\", \"es\", \"zh\"]\n",
    "languages = [\"es\", \"nl\", \"en\", \"zh\"]\n",
    "\n",
    "language_names = {\"en\": \"English\", \"ms\": \"Malay\", \"pt\":\"Portuguese\", \"fr\": \"French\", \"id\": \"Indonesian\", \n",
    "                  \"nl\": \"Dutch\", \"es\": \"Spanish\", \"zh\": \"Chinese\", \"ru\": \"Russian\"}"
   ]
  },
  {
   "cell_type": "code",
   "execution_count": 3,
   "id": "dda1c4eb",
   "metadata": {},
   "outputs": [],
   "source": [
    "from src.util import load_fb_dictionaries, load_worldlex_data, expand_chinese_characters\n",
    "from src.util import load_strong_translations, load_worldlex_data\n",
    "from src.word_mapping import calculate_frequency, get_wordlist\n",
    "\n",
    "def preprocess_fq(lang_word_fq, column_name=\"avg\"):\n",
    "    return {lang: {word: {column_name: fq} for word, fq in word_fq.items()} for lang, word_fq in lang_word_fq.items()}\n",
    "\n",
    "# worldlex frequency\n",
    "freq = load_worldlex_data(relative_frequency=False, average=False, source=[\"twitter\", \"blog\"], languages=languages)\n",
    "strong_translations = load_strong_translations(languages, folder_path=\"strong-translations/lemma-strong-translations-0.2\", source=\"en_lemma\")\n",
    "\n",
    "freq[\"zh\"] = expand_chinese_characters(freq[\"zh\"], convert=\"key\", count_values=True)\n"
   ]
  },
  {
   "cell_type": "markdown",
   "id": "778cdbd3-824c-4781-97a6-5e649eef39d5",
   "metadata": {
    "tags": []
   },
   "source": [
    "#### 0. Loading SWOW assoc. data"
   ]
  },
  {
   "cell_type": "code",
   "execution_count": 4,
   "id": "c99183c0-a175-4ce0-8db6-4b058b534786",
   "metadata": {
    "tags": []
   },
   "outputs": [],
   "source": [
    "from src.util import load_swow_from_agg_data\n",
    "\n",
    "r1_fq, r1_tp, r1_split_fq, r123_split_fq, r123_fq, r123_tp, cue_r1_fq, cue_r123_fq, r1_cue_fq, cue_r1_strength, r123_cue_fq, cue_r123_strength = {}, {}, {}, {},\\\n",
    "{}, {}, {}, {}, {}, {}, {}, {}\n",
    "\n",
    "# load English and Chinese\n",
    "r1_fq[\"en\"], r1_split_fq[\"en\"], r1_tp[\"en\"], cue_r1_fq[\"en\"], r1_cue_fq[\"en\"], cue_r1_strength[\"en\"] = load_swow_from_agg_data(\n",
    "    \"small-world/strength.SWOW-EN.R1.csv\", delimiter=\"\\t\", cue_name=\"cue\", response_name=\"response\", fq_name=\"R1\", strength_name=\"R1.Strength\")\n",
    "r123_fq[\"en\"], r123_split_fq[\"en\"], r123_tp[\"en\"], cue_r123_fq[\"en\"], r123_cue_fq[\"en\"], cue_r123_strength[\"en\"] = load_swow_from_agg_data(\n",
    "    \"small-world/strength.SWOW-EN.R123.csv\", delimiter=\"\\t\", cue_name=\"cue\", response_name=\"response\", fq_name=\"R123\", strength_name=\"R123.Strength\")\n",
    "r1_fq[\"zh\"], r1_split_fq[\"zh\"], r1_tp[\"zh\"], cue_r1_fq[\"zh\"], r1_cue_fq[\"zh\"], cue_r1_strength[\"zh\"] = load_swow_from_agg_data(\n",
    "    \"small-world/strength.SWOW-ZH.R1.03-12-2021.csv\", delimiter=\"\\t\", cue_name=\"cue\", response_name=\"response\", fq_name=\"R1\", strength_name=\"R1.Strength\")\n",
    "r123_fq[\"zh\"], r123_split_fq[\"zh\"], r123_tp[\"zh\"], cue_r123_fq[\"zh\"], r123_cue_fq[\"zh\"], cue_r123_strength[\"zh\"] = load_swow_from_agg_data(\n",
    "    \"small-world/strength.SWOW-ZH.R123.03-12-2021.csv\", delimiter=\"\\t\", cue_name=\"cue\", response_name=\"response\", fq_name=\"R123\", strength_name=\"R123.Strength\")\n",
    "\n",
    "# load Dutch and Spanish\n",
    "from src.util import load_swow_responses\n",
    "\n",
    "r1_fq[\"nl\"], r123_fq[\"nl\"], r1_split_fq[\"nl\"], r123_split_fq[\"nl\"], r1_tp[\"nl\"], r123_tp[\"nl\"], \\\n",
    "cue_r1_strength[\"nl\"], cue_r123_strength[\"nl\"], cue_r1_fq[\"nl\"], cue_r123_fq[\"nl\"] = load_swow_responses(\n",
    "    \"small-world/associationData-NL.csv\", delimiter=';', cue_name=\"cue\", r123_name=[\"asso1\", \"asso2\", \"asso3\"], ignored_responses=[\"NA\", \"x\"])\n",
    "\n",
    "r1_fq[\"es\"], r123_fq[\"es\"], r1_split_fq[\"es\"], r123_split_fq[\"es\"], r1_tp[\"es\"], r123_tp[\"es\"], \\\n",
    "cue_r1_strength[\"es\"], cue_r123_strength[\"es\"], cue_r1_fq[\"es\"], cue_r123_fq[\"es\"] = load_swow_responses(\n",
    "    \"small-world/SWOW-RP.R70.csv\", delimiter=',',cue_name=\"cue\", r123_name=[\"R1\", \"R2\", \"R3\"], ignored_responses=[\"NA\"])"
   ]
  },
  {
   "cell_type": "code",
   "execution_count": 5,
   "id": "171c9c47-5d86-49b6-9274-8d43813c0c5a",
   "metadata": {},
   "outputs": [
    {
     "name": "stdout",
     "output_type": "stream",
     "text": [
      "number of r1s in es: 899436\n",
      "number of r123s in es: 2103790\n",
      "number of r1s in nl: 1239208\n",
      "number of r123s in nl: 3646739\n",
      "number of r1s in en: 1190891\n",
      "number of r123s in en: 3385951\n",
      "number of r1s in zh: 594762\n",
      "number of r123s in zh: 1415761\n"
     ]
    }
   ],
   "source": [
    "for lang in languages:\n",
    "    print(\"number of r1s in {}: {}\".format(lang, sum(r1_fq[lang].values())))\n",
    "    print(\"number of r123s in {}: {}\".format(lang, sum(r123_fq[lang].values())))"
   ]
  },
  {
   "cell_type": "markdown",
   "id": "aa484437-6458-477b-8e82-a05f7ad4699d",
   "metadata": {
    "tags": []
   },
   "source": [
    "##### Convert Chinese assoc characters"
   ]
  },
  {
   "cell_type": "code",
   "execution_count": 6,
   "id": "d9292c27-1003-4a00-b723-63c1ddb79f52",
   "metadata": {},
   "outputs": [
    {
     "name": "stdout",
     "output_type": "stream",
     "text": [
      "number of r123s in zh: 1415761\n"
     ]
    }
   ],
   "source": [
    "import opencc\n",
    "converter = opencc.OpenCC('t2s.json')\n",
    "from collections import Counter\n",
    "from src.util import expand_chinese_characters\n",
    "\n",
    "zh_r123_fq = expand_chinese_characters(r123_fq[\"zh\"], convert=\"key\", count_values=True)\n",
    "zh_cue_r123_fq = expand_chinese_characters(cue_r123_fq[\"zh\"], convert=\"key\", count_values=True)\n",
    "zh_cue_r123_fq = expand_chinese_characters(zh_cue_r123_fq, convert=\"value\", count_values=True)\n",
    "\n",
    "print(\"number of r123s in zh: {}\".format( sum(zh_r123_fq.values())))"
   ]
  },
  {
   "cell_type": "code",
   "execution_count": 7,
   "id": "0048169f-555e-4fc7-8b2d-1ffbafbf9379",
   "metadata": {},
   "outputs": [],
   "source": [
    "r123_fq[\"zh\"] = zh_r123_fq\n",
    "cue_r123_fq[\"zh\"] = zh_cue_r123_fq"
   ]
  },
  {
   "cell_type": "markdown",
   "id": "2b6c520d-df11-4694-bd00-c4db8b7867fb",
   "metadata": {
    "tags": []
   },
   "source": [
    "##### Bayesian on responses"
   ]
  },
  {
   "cell_type": "code",
   "execution_count": 8,
   "id": "e5ac02f9-e27b-4142-8c55-747d83bd6464",
   "metadata": {
    "tags": []
   },
   "outputs": [],
   "source": [
    "from src.statistics import get_alphas, get_n, final_score, rank_keyword_score\n",
    "from src.evaluation import sort_rank_by_score\n",
    "from src.word_association import get_usage_assoc_alignment\n",
    "from src.word_association import get_wordlist_scores\n",
    "r_smoothing_param = 1\n",
    "source = \"en_lemma\"\n",
    "\n",
    "\n",
    "# {w: S_w}\n",
    "sc = {}\n",
    "# [words sorted by S_w]\n",
    "sorted_sc = {}\n",
    "# {w: ranking by S_w, words of same ranks have same S_w}\n",
    "word_sc_rank = {}\n",
    "wordlist, word_stat = {}, {}\n",
    "\n",
    "clf_lang_word_score, clf_ranks, clf_rank_keyword_score  = {}, {}, {}\n",
    "\n",
    "for method_name, method in { \"r123_fq\": r123_fq}.items():\n",
    "    word_stat[method_name], wordlist[method_name], _, _, _, _, _, _ = get_wordlist_scores(method, r_smoothing_param, languages, strong_translations, translate=True)\n",
    "    "
   ]
  },
  {
   "cell_type": "markdown",
   "id": "5431f4ce-f61f-4150-bdf0-9afc331340f5",
   "metadata": {
    "tags": []
   },
   "source": [
    "##### Shared vocabulary"
   ]
  },
  {
   "cell_type": "code",
   "execution_count": 9,
   "id": "ad0955c8-6685-472f-8222-594e4b4f592e",
   "metadata": {},
   "outputs": [],
   "source": [
    "from src.word_association import translate_cue_response_stat\n",
    "\n",
    "cuetr_r123_fq = translate_cue_response_stat(cue_r123_fq, languages, strong_translations, source, translate=\"cue\")       \n",
    "                    \n",
    "cuetr_r123tr_fq = translate_cue_response_stat(cuetr_r123_fq, languages, strong_translations, source, translate=\"response\")"
   ]
  },
  {
   "cell_type": "code",
   "execution_count": 10,
   "id": "b613bd89-4916-4575-ae06-6e07283849ec",
   "metadata": {},
   "outputs": [
    {
     "name": "stdout",
     "output_type": "stream",
     "text": [
      "Total size of shared vocabulary: 4514\n"
     ]
    }
   ],
   "source": [
    "shared_vocabulary = set(cuetr_r123tr_fq[\"en\"].keys()).union(set(word_stat[\"r123_fq\"][\"en\"].keys()))\n",
    "for lang, r123s in word_stat[\"r123_fq\"].items():\n",
    "    lang_vocab = set(cuetr_r123tr_fq[lang].keys()).union(set(r123s.keys()))\n",
    "    shared_vocabulary = shared_vocabulary.intersection(lang_vocab)\n",
    "\n",
    "print(\"Total size of shared vocabulary: {}\".format(len(shared_vocabulary)))"
   ]
  },
  {
   "cell_type": "markdown",
   "id": "a66dd9f9-57fb-43a9-8320-aa1c5f6d4274",
   "metadata": {
    "tags": []
   },
   "source": [
    "#### 0. Controlling vocabulary"
   ]
  },
  {
   "cell_type": "code",
   "execution_count": 11,
   "id": "71fdd64d-ae7a-4d56-aaa4-807935f9af7c",
   "metadata": {},
   "outputs": [
    {
     "name": "stdout",
     "output_type": "stream",
     "text": [
      "Maximum and minimum cue frequencies\n",
      "es, max: 166, min: 23\n",
      "nl, max: 252, min: 43\n",
      "en, max: 263, min: 45\n",
      "zh, max: 161, min: 10\n"
     ]
    },
    {
     "data": {
      "image/png": "[encoded data removed]",
      "text/plain": [
       "<Figure size 432x288 with 1 Axes>"
      ]
     },
     "metadata": {
      "needs_background": "light"
     },
     "output_type": "display_data"
    },
    {
     "name": "stdout",
     "output_type": "stream",
     "text": [
      "Number of shared_cues: 2224\n",
      "Number of cues after filtering\n",
      "{'es': 2224, 'nl': 2224, 'en': 2224, 'zh': 2224}\n",
      "{'es': 66719.99999999924, 'nl': 66719.99999999924, 'en': 66719.99999999924, 'zh': 66719.99999999924}\n"
     ]
    },
    {
     "data": {
      "image/png": "[encoded data removed]",
      "text/plain": [
       "<Figure size 432x288 with 1 Axes>"
      ]
     },
     "metadata": {
      "needs_background": "light"
     },
     "output_type": "display_data"
    },
    {
     "data": {
      "image/png": "[encoded data removed]",
      "text/plain": [
       "<Figure size 432x288 with 1 Axes>"
      ]
     },
     "metadata": {
      "needs_background": "light"
     },
     "output_type": "display_data"
    },
    {
     "name": "stdout",
     "output_type": "stream",
     "text": [
      "{'es': 66719.99999999774, 'nl': 66719.99999999766, 'en': 66719.99999999788, 'zh': 66719.99999999789}\n"
     ]
    }
   ],
   "source": [
    "import warnings\n",
    "import copy \n",
    "from src.word_association import get_rescaled_response_distribution_with_uniform_cues\n",
    "\n",
    "# rescaled and controlled both cues and responses\n",
    "cr123ccuersc_fq, ccuersc_cr123_fq, shared_cues = get_rescaled_response_distribution_with_uniform_cues(cuetr_r123tr_fq, shared_vocabulary, cue_fq_threshold=30, verbose=True)\n",
    "cr123ccuersc_n = {lang: sum(rfq.values()) for lang, rfq in cr123ccuersc_fq.items()}\n",
    "print(cr123ccuersc_n)\n"
   ]
  },
  {
   "cell_type": "markdown",
   "id": "e997097c-72f9-407a-a65c-d0865f439893",
   "metadata": {
    "tags": []
   },
   "source": [
    "#### 1. Bayesian on assoc"
   ]
  },
  {
   "cell_type": "code",
   "execution_count": 12,
   "id": "4e5f1a9a-836c-48bb-a985-87daef832cc1",
   "metadata": {},
   "outputs": [],
   "source": [
    "# from src.statistics import final_score, rank_keyword_score, get_alphas, get_n, proportion_score, frequency_score,\\\n",
    "# rank_keyword_by_freq_score\n",
    "from src.evaluation import sort_rank_by_score\n",
    "from src.statistics import sort_tuple_score, get_recall_at_k\n",
    "clf_tuple = {}\n",
    "assoc_smoothing_param  = 1   \n",
    "method_name = \"cr123ccuersc_fq\"\n",
    "word_stat[method_name], wordlist[method_name], clf_lang_word_score[method_name], clf_ranks[method_name], clf_rank_keyword_score[method_name], \\\n",
    "sc[method_name], sorted_sc[method_name], word_sc_rank[method_name] = get_wordlist_scores(cr123ccuersc_fq, assoc_smoothing_param, languages, strong_translations, \n",
    "                                                                                             translate=False)\n",
    "\n",
    "clf_tuple[method_name] = sort_tuple_score(clf_lang_word_score[method_name])"
   ]
  },
  {
   "cell_type": "code",
   "execution_count": 13,
   "id": "d23039d8-731f-4b75-8178-f59708300a13",
   "metadata": {},
   "outputs": [
    {
     "name": "stdout",
     "output_type": "stream",
     "text": [
      "{'es': 4514, 'nl': 4514, 'en': 4514, 'zh': 4514}\n"
     ]
    }
   ],
   "source": [
    "print({lang: len(rfq) for lang, rfq in word_stat[\"cr123ccuersc_fq\"].items()})"
   ]
  },
  {
   "cell_type": "code",
   "execution_count": 14,
   "id": "01d8d4a5-aafb-4b8f-bf96-0be06dbbd053",
   "metadata": {},
   "outputs": [
    {
     "name": "stdout",
     "output_type": "stream",
     "text": [
      "{'es': 66719.99999999774, 'nl': 66719.99999999766, 'en': 66719.99999999788, 'zh': 66719.99999999789}\n"
     ]
    }
   ],
   "source": [
    "print({lang: sum(word_stat.values()) for lang, word_stat in word_stat[\"cr123ccuersc_fq\"].items()})"
   ]
  },
  {
   "cell_type": "code",
   "execution_count": 15,
   "id": "4b005882-fe05-4722-b732-dd161feb9e62",
   "metadata": {},
   "outputs": [],
   "source": [
    "from src.statistics import random_baseline, always_english_baseline\n",
    "random_rank = random_baseline(shared_vocabulary, cr123ccuersc_fq, languages) \n",
    "# rank english as 1 if the word exists in english corpus, rank randomly otherwise\n",
    "always_en_rank = always_english_baseline(shared_vocabulary, cr123ccuersc_fq, languages) \n",
    "\n",
    "clf_ranks[\"cr123ccuersc_fq_random\"] = random_rank\n",
    "clf_ranks[\"cr123ccuersc_fq_always_en\"] = always_en_rank\n",
    "\n",
    "wordlist[\"cr123ccuersc_fq_random\"], wordlist[\"cr123ccuersc_fq_always_en\"] = shared_vocabulary, shared_vocabulary\n",
    "word_stat[\"cr123ccuersc_fq_random\"], word_stat[\"cr123ccuersc_fq_always_en\"] = cr123ccuersc_fq, cr123ccuersc_fq\n"
   ]
  },
  {
   "cell_type": "markdown",
   "id": "87310374-0a07-4d79-9f69-ca34a5b36ad3",
   "metadata": {
    "tags": []
   },
   "source": [
    "#### 2. Bayesian on usage"
   ]
  },
  {
   "cell_type": "code",
   "execution_count": 16,
   "id": "4c7c5d75-401f-47c2-9786-c1b6e242bef7",
   "metadata": {},
   "outputs": [
    {
     "name": "stdout",
     "output_type": "stream",
     "text": [
      "66720\n"
     ]
    }
   ],
   "source": [
    "uniform_scaling = round(sum(cr123ccuersc_fq[\"zh\"].values()))\n",
    "print(uniform_scaling)"
   ]
  },
  {
   "cell_type": "code",
   "execution_count": 17,
   "id": "b44d0565-bfd6-4f5f-aa5d-7521b6ed9d83",
   "metadata": {},
   "outputs": [],
   "source": [
    "# proposed method of bayesian likelihood with Dirichlet prior, then ranked by language\n",
    "tr_freq = calculate_frequency(freq, strong_translations, languages, source=\"en_lemma\")\n",
    "tr_freq = {lang: {w: freq for w, freq in word_stat.items() if w in shared_vocabulary} for lang, word_stat in tr_freq.items()}\n",
    "\n",
    "# scaling all all languages to the same total frequency (smallest assoc size)\n",
    "fq_sum = {lang:sum(wfq.values()) for lang, wfq in tr_freq.items()}\n",
    "tr_freq = {lang: {w: (fq/fq_sum[lang]) * uniform_scaling for w, fq in wfq.items()} for lang, wfq in tr_freq.items()}\n",
    "\n",
    "word_stat[\"bayesian\"], wordlist[\"bayesian\"], clf_lang_word_score[\"bayesian\"], clf_ranks[\"bayesian\"], clf_rank_keyword_score[\"bayesian\"], \\\n",
    "    sc[\"bayesian\"], sorted_sc[\"bayesian\"], word_sc_rank[\"bayesian\"] = get_wordlist_scores(tr_freq, assoc_smoothing_param, languages, strong_translations,\n",
    "                                                                                          translate=False)\n",
    "clf_tuple[\"bayesian\"] = sort_tuple_score(clf_lang_word_score[\"bayesian\"])"
   ]
  },
  {
   "cell_type": "code",
   "execution_count": 18,
   "id": "9fbf7295-9c1b-46fc-b01d-ac8d30abd43b",
   "metadata": {},
   "outputs": [
    {
     "name": "stdout",
     "output_type": "stream",
     "text": [
      "{'es': 4514, 'nl': 4514, 'en': 4514, 'zh': 4514}\n"
     ]
    }
   ],
   "source": [
    "print({lang: len(word_stat.keys()) for lang, word_stat in word_stat[\"bayesian\"].items()})"
   ]
  },
  {
   "cell_type": "code",
   "execution_count": 19,
   "id": "cda13d13-050d-4cb0-9610-090420ff035f",
   "metadata": {},
   "outputs": [
    {
     "name": "stdout",
     "output_type": "stream",
     "text": [
      "{'es': 66719.99999999993, 'nl': 66719.99999999984, 'en': 66719.99999999993, 'zh': 66720.0000000007}\n"
     ]
    }
   ],
   "source": [
    "print({lang: sum(word_stat.values()) for lang, word_stat in word_stat[\"bayesian\"].items()})"
   ]
  },
  {
   "cell_type": "markdown",
   "id": "922422d7-8f14-49c4-86d6-e440f4583e26",
   "metadata": {
    "tags": []
   },
   "source": [
    "#### 3. Bayesian on usage + assoc"
   ]
  },
  {
   "cell_type": "code",
   "execution_count": 20,
   "id": "ce9a9cdc-5c97-4ca6-aa96-955567a10f1f",
   "metadata": {},
   "outputs": [
    {
     "name": "stdout",
     "output_type": "stream",
     "text": [
      "{'es': 66719.9999999996, 'nl': 66719.9999999997, 'en': 66719.99999999972, 'zh': 66719.99999999962}\n"
     ]
    }
   ],
   "source": [
    "n_usage = {lang: sum(stat.values()) for lang, stat in word_stat[\"bayesian\"].items()}\n",
    "n_assoc = {lang: sum(stat.values()) for lang, stat in word_stat[\"cr123ccuersc_fq\"].items()}\n",
    "\n",
    "sum_n_usage_assoc = {lang: stat + n_assoc[lang] for lang, stat in n_usage.items()}\n",
    "# combine 60% usage data and 40% association data \n",
    "p_us = [0.1, 0.2, 0.3, 0.4, 0.5, 0.6, 0.7, 0.8, 0.9]\n",
    "for p_u in p_us:\n",
    "    method_name = \"usage_assoc_{}\".format(p_u)\n",
    "    usage_assoc_fq = {lang: {w: word_stat[\"bayesian\"][lang][w]*p_u + word_stat[\"cr123ccuersc_fq\"][lang][w]*(1-p_u)\n",
    "                             for w in shared_vocabulary} for lang in languages}\n",
    "    word_stat[method_name], wordlist[method_name], clf_lang_word_score[method_name], clf_ranks[method_name], clf_rank_keyword_score[method_name], \\\n",
    "    sc[method_name], sorted_sc[method_name], word_sc_rank[method_name] = get_wordlist_scores(usage_assoc_fq, assoc_smoothing_param,\n",
    "                                                                                             languages, strong_translations, translate=False)\n",
    "    clf_tuple[method_name] = sort_tuple_score(clf_lang_word_score[method_name])\n",
    "\n",
    "n_usage_assoc = {lang: sum(stat.values()) for lang, stat in word_stat[method_name].items()}\n",
    "print(n_usage_assoc)"
   ]
  },
  {
   "cell_type": "code",
   "execution_count": 21,
   "id": "e103c180-30d5-42d5-b561-7cfe6f8da37e",
   "metadata": {},
   "outputs": [],
   "source": [
    "clf_tuple_rank = {met: {tup: i+1 for i, tup in enumerate(tuples)} for met, tuples in clf_tuple.items()}"
   ]
  },
  {
   "cell_type": "markdown",
   "id": "d195f766-b56b-48e6-b351-1e4ac7333614",
   "metadata": {
    "jp-MarkdownHeadingCollapsed": true,
    "tags": []
   },
   "source": [
    "#### 4. Testing cue-response stability"
   ]
  },
  {
   "cell_type": "markdown",
   "id": "6e1809f5-4c21-432f-a0e8-3f690fb67155",
   "metadata": {
    "tags": []
   },
   "source": [
    "##### 4.1. Response stability\n",
    "\n",
    "Translate cues by strong translations. With only the set of shared cues in English, will the response distributions deviate from the original?"
   ]
  },
  {
   "cell_type": "markdown",
   "id": "f73b622e-6e96-4cae-ae94-fec0365d1ec2",
   "metadata": {},
   "source": [
    "Controlled responses"
   ]
  },
  {
   "cell_type": "code",
   "execution_count": 21,
   "id": "70c48942-63f1-4ac5-8985-18cfb60d9ca6",
   "metadata": {},
   "outputs": [
    {
     "name": "stdout",
     "output_type": "stream",
     "text": [
      ">> Response frequency stability with controlled cues, controlled response\n",
      "\n",
      "Spanish\n",
      "Pearsons correlation of 1st/2nd/3rd response frequeny before and after controlling cues and responses: 0.896, number of words: 14219\n",
      "\n",
      "Dutch\n",
      "Pearsons correlation of 1st/2nd/3rd response frequeny before and after controlling cues and responses: 0.898, number of words: 13122\n",
      "\n",
      "English\n",
      "Pearsons correlation of 1st/2nd/3rd response frequeny before and after controlling cues and responses: 0.907, number of words: 34093\n",
      "\n",
      "Chinese\n",
      "Pearsons correlation of 1st/2nd/3rd response frequeny before and after controlling cues and responses: 0.891, number of words: 7482\n"
     ]
    }
   ],
   "source": [
    "from src.evaluation import pearson_correlation\n",
    "print(\">> Response frequency stability with controlled cues, controlled response\")\n",
    "for lang in languages:\n",
    "    print(\"\\n\"+ language_names[lang])\n",
    "    ccuer123_fq_corr = pearson_correlation(cr123ccuersc_fq[lang], word_stat[\"r123_fq\"][lang], label=\"of 1st/2nd/3rd response frequeny before and after controlling cues and responses\")\n"
   ]
  },
  {
   "cell_type": "markdown",
   "id": "414f01ac-cc5f-4fdc-a5ee-f123e753b5c9",
   "metadata": {},
   "source": [
    "##### 4.2. Cue stability (via sampled cues response distribution)\n",
    "\n",
    "There are only 2224 shared cues across languages -- how are these cues different from those being left out? \n",
    "\n",
    "Here I randomly sample 2224 cues from each languages and test the response distribution out of the sampled cues"
   ]
  },
  {
   "cell_type": "code",
   "execution_count": 26,
   "id": "a9533530-42e0-4d32-a566-0741f4f34d41",
   "metadata": {
    "tags": []
   },
   "outputs": [],
   "source": [
    "import random, math\n",
    "from random import sample\n",
    "import statistics as stat\n",
    "from src.word_association import get_response_sum_with_cues\n",
    "random.seed(2022)\n",
    "from src.evaluation import pearson_correlation\n",
    "\n",
    "def correlation_of_response_across_cue_samples(response_fq, cue_response_fq, nsamples, sample_sz):\n",
    "    \n",
    "    correlations = {lang: [] for lang in cue_response_fq.keys()}\n",
    "    \n",
    "    for lang, cue_rfq in cue_response_fq.items():\n",
    "        all_cues = list(cue_rfq.keys())\n",
    "        for i in range(nsamples):\n",
    "            sampled_cues = sample(all_cues, sample_sz)\n",
    "            sampled_rfq = get_response_sum_with_cues( cue_rfq, sampled_cues, initial_r_fq=None)\n",
    "            correl = pearson_correlation(sampled_rfq, response_fq[lang], verbose=False)\n",
    "            correlations[lang].append(correl)\n",
    "    \n",
    "    mean_std_correlations = {lang: {\"mean\": stat.mean(correl), \"std\": stat.stdev(correl), \"correlation\": correl} for lang, correl in correlations.items()}\n",
    "    return mean_std_correlations\n",
    "\n"
   ]
  },
  {
   "cell_type": "markdown",
   "id": "ea8376ca-3af4-49e1-b1b7-878ff3e46350",
   "metadata": {},
   "source": [
    "Controlled responses"
   ]
  },
  {
   "cell_type": "code",
   "execution_count": 27,
   "id": "a1de32b8-37ae-462c-af84-2090272814e3",
   "metadata": {},
   "outputs": [
    {
     "name": "stdout",
     "output_type": "stream",
     "text": [
      "Correlations of response frequency distributions, given 100 samples of 2224 cues\n",
      "Mean and standard deviation\n",
      "\n",
      "Spanish\n",
      "r123: 0.9054885665029628, 0.0031382426078108887\n",
      "\n",
      "Dutch\n",
      "r123: 0.9230837847708603, 0.0028033976028108533\n",
      "\n",
      "English\n",
      "r123: 0.8771752123677895, 0.003911915767762192\n",
      "\n",
      "Chinese\n",
      "r123: 0.9073789771201324, 0.0030999358395368327\n"
     ]
    }
   ],
   "source": [
    "nsamples = 100\n",
    "\n",
    "corr_r123fq_samples = correlation_of_response_across_cue_samples(cr123ccuersc_fq, cuetr_r123tr_fq , nsamples, len(shared_cues))\n",
    "\n",
    "print(\"Correlations of response frequency distributions, given {} samples of {} cues\".format(nsamples, len(shared_cues)))\n",
    "print(\"Mean and standard deviation\")\n",
    "for lang in languages:\n",
    "    print(\"\\n\"+ language_names[lang])\n",
    "    print(\"r123: {}, {}\".format(corr_r123fq_samples[lang][\"mean\"], corr_r123fq_samples[lang][\"std\"]))\n"
   ]
  },
  {
   "cell_type": "markdown",
   "id": "cf1908b4-5afe-43cb-a71e-cb71d9c2d1db",
   "metadata": {
    "tags": []
   },
   "source": [
    "#### 5. SWOW vs Worldlex"
   ]
  },
  {
   "cell_type": "markdown",
   "id": "9943f56a-6318-4478-a030-87da13356c9c",
   "metadata": {
    "tags": []
   },
   "source": [
    "##### Correlation and top words based on SWOW / Freq data"
   ]
  },
  {
   "cell_type": "code",
   "execution_count": 22,
   "id": "25e5ac91-ec7f-4fc2-b656-594f056508d7",
   "metadata": {},
   "outputs": [],
   "source": [
    "from src.word_association import get_lemma_set\n",
    "from src.util import load_lemmatized\n",
    "word_lemma = {lang: load_lemmatized(\"lemmatized/{}.txt\".format(lang)) for lang in [\"es\", \"en\", \"nl\"]}"
   ]
  },
  {
   "cell_type": "code",
   "execution_count": 27,
   "id": "bb3b067e-3ad4-4cc9-b6c8-db9312ed4917",
   "metadata": {},
   "outputs": [
    {
     "name": "stdout",
     "output_type": "stream",
     "text": [
      "===== Spanish =====\n",
      "\n",
      "----------------------------\n",
      "es assoc - es usage correlation\n",
      "----------------------------\n",
      "\n",
      "top 20 high in swow r123, low in freq: diver, zodiac, diversity, miser, pus, ornament, rigid, confinement, fungi, disinfectant, discipline, hardness, drawer, vegetation, ceramic, lifeguard, animal, hypocrite, revolver, gelatin\n",
      "\n",
      "\n",
      "top 20 high in freq, low in swow r123: majority, function, correspond, counter, climb, institute, protagonist, raisins, import, level, canary, occasion, saint, profile, campaign, prosecutor, controller, model, pimp, unemployment\n",
      "\n",
      "\n",
      "23 words in the top 100 of both freq and r123: ['response', 'current', 'encounter', 'field', 'final', 'moment', 'penalty', 'necessity', 'cinema', 'all', 'public', 'follow', 'chief', 'doubt', 'security', 'village', 'capacity', 'force', '\\x1b[1mson\\x1b[0m', 'path', 'form', 'fear', 'rare']\n",
      "----------------------------\n",
      "es assoc - nl usage correlation\n",
      "----------------------------\n",
      "overlapped words (6): {'know', 'couple', 'large', 'state', 'free', 'neighborhood'}\n",
      "\n",
      "----------------------------\n",
      "es assoc - en usage correlation\n",
      "----------------------------\n",
      "overlapped words (6): {'know', 'share', 'all', 'love', 'sweet', 'follow'}\n",
      "\n",
      "----------------------------\n",
      "es assoc - zh usage correlation\n",
      "----------------------------\n",
      "overlapped words (2): {'joy', 'classmate'}\n",
      "\n",
      "\n",
      "\n",
      "\n",
      "===== Dutch =====\n",
      "\n",
      "----------------------------\n",
      "nl assoc - es usage correlation\n",
      "----------------------------\n",
      "overlapped words (2): {'le', 'good'}\n",
      "\n",
      "----------------------------\n",
      "nl assoc - nl usage correlation\n",
      "----------------------------\n",
      "\n",
      "top 20 high in swow r123, low in freq: stench, ditto, unhealthy, boat, nature, mayonnaise, red, beast, syringe, diploma, winter, bread, reception, pant, wet, soft, grey, pharmacist, soot, vulnerable\n",
      "\n",
      "\n",
      "top 20 high in freq, low in swow r123: hoof, week, usually, dune, reaction, role, nausea, super, suspect, emergence, fog, dense, vegetarian, tulip, preservation, sequel, step, still, nephew, mosque\n",
      "\n",
      "\n",
      "20 words in the top 100 of both freq and r123: ['bike', 'pressure', 'road', 'municipality', 'child', 'rest', 'garden', 'beautiful', 'large', 'bang', 'thick', 'honest', 'many', 'warm', 'vacation', 'good', 'annoying', 'cheerful', '\\x1b[1mfun\\x1b[0m', 'substance']\n",
      "----------------------------\n",
      "nl assoc - en usage correlation\n",
      "----------------------------\n",
      "overlapped words (5): {'post', 'need', 'talk', 'around', 'brown'}\n",
      "\n",
      "----------------------------\n",
      "nl assoc - zh usage correlation\n",
      "----------------------------\n",
      "overlapped words (6): {'eat', 'boss', 'money', 'woman', 'only', 'small'}\n",
      "\n",
      "\n",
      "\n",
      "\n",
      "===== English =====\n",
      "\n",
      "----------------------------\n",
      "en assoc - es usage correlation\n",
      "----------------------------\n",
      "overlapped words (2): {'present', 'good'}\n",
      "\n",
      "----------------------------\n",
      "en assoc - nl usage correlation\n",
      "----------------------------\n",
      "overlapped words (4): {'top', 'here', 'good', 'mail'}\n",
      "\n",
      "----------------------------\n",
      "en assoc - en usage correlation\n",
      "----------------------------\n",
      "\n",
      "top 20 high in swow r123, low in freq: fur, whale, reef, messy, mold, karate, sex, sting, royalty, beaver, pedal, leech, spy, navy, pipe, blade, worm, spill, medical, steel\n",
      "\n",
      "\n",
      "top 20 high in freq, low in swow r123: ranger, appreciate, bear, epic, feed, hater, studio, jazz, gallery, adventure, fade, inspire, some, mixed, potential, kick, muffin, hell, soon, gear\n",
      "\n",
      "\n",
      "27 words in the top 100 of both freq and r123: ['run', 'rock', '\\x1b[1mwrong\\x1b[0m', 'store', 'even', 'mean', 'hold', 'show', 'down', '\\x1b[1mmind\\x1b[0m', 'cut', 'try', 'stop', '\\x1b[1mnice\\x1b[0m', 'food', 'beat', 'bill', 'back', 'talk', 'hit', 'cool', 'mine', 'cook', 'funny', 'trip', 'race', 'top']\n",
      "----------------------------\n",
      "en assoc - zh usage correlation\n",
      "----------------------------\n",
      "overlapped words (5): {'forever', 'home', 'big', 'one', 'sing'}\n",
      "\n",
      "\n",
      "\n",
      "\n",
      "===== Chinese =====\n",
      "\n",
      "----------------------------\n",
      "zh assoc - es usage correlation\n",
      "----------------------------\n",
      "overlapped words (0): set()\n",
      "\n",
      "----------------------------\n",
      "zh assoc - nl usage correlation\n",
      "----------------------------\n",
      "overlapped words (0): set()\n",
      "\n",
      "----------------------------\n",
      "zh assoc - en usage correlation\n",
      "----------------------------\n",
      "overlapped words (4): {'hate', 'like', 'game', 'kid'}\n",
      "\n",
      "----------------------------\n",
      "zh assoc - zh usage correlation\n",
      "----------------------------\n",
      "\n",
      "top 20 high in swow r123, low in freq: scissor, bamboo, sparrow, banquet, dinosaur, crucifix, damp, circular, prince, sickle, diet, bullfighting, toothbrush, parody, cosmetic, embrace, toxic, martyr, crowded, myopia\n",
      "\n",
      "\n",
      "top 20 high in freq, low in swow r123: recent, currently, install, five, recommend, quasi, solve, gradually, countless, forum, absolutely, gang, qualification, before, seal, degree, relate, excavation, reign, participate\n",
      "\n",
      "\n",
      "14 words in the top 100 of both freq and r123: ['social', 'people', 'national', 'political', 'clothe', 'big', 'graduate', 'injure', 'method', 'company', 'phone', 'leadership', 'teacher', 'successful']\n",
      "\n",
      "\n",
      "\n"
     ]
    }
   ],
   "source": [
    "\n",
    "from src.word_association import get_usage_assoc_alignment\n",
    "\n",
    "# usage_assoc_alignment = get_usage_assoc_alignment(\"bayesian\", \"cr123ccuersc_fq\",  languages, language_names,\n",
    "#                                                  strong_translations, shared_vocabulary, clf_rank_keyword_score, sc,\n",
    "#                                                  word_lemma, freq)\n",
    "\n",
    "\n",
    "usage_assoc_alignment = get_usage_assoc_alignment(\"bayesian\", \"cr123ccuersc_fq\",  languages, language_names,\n",
    "                                                 strong_translations, shared_vocabulary, clf_rank_keyword_score, clf_tuple, clf_lang_word_score,\n",
    "                                                 word_lemma, freq, latex_format=False, available_keywords=available_keywords)"
   ]
  },
  {
   "cell_type": "code",
   "execution_count": 30,
   "id": "08189001-0bae-4c88-9147-4870d3f3d2c9",
   "metadata": {},
   "outputs": [
    {
     "data": {
      "image/png": "[encoded data removed]",
      "text/plain": [
       "<Figure size 360x288 with 2 Axes>"
      ]
     },
     "metadata": {
      "needs_background": "light"
     },
     "output_type": "display_data"
    }
   ],
   "source": [
    "import matplotlib.patches as mpatches\n",
    "import seaborn as sns\n",
    "lang_ticks = [language_names[lang] for lang in languages]\n",
    "fig, ax = plt.subplots(1, 1, sharey=False)\n",
    "\n",
    "fig.set_figheight(4)\n",
    "fig.set_figwidth(5)\n",
    "\n",
    "nclassified_mtx = np.array([[usage_assoc_alignment[\"nclassified\"][\"bayesian\"][\"r123\"][lang][lang2] for lang2 in languages] for lang in languages])\n",
    "ax = sns.heatmap(nclassified_mtx, annot=True, linewidths=.5, xticklabels=lang_ticks, yticklabels=lang_ticks, square=True, ax=ax, fmt='g', cmap=\"YlGnBu\",\n",
    "                annot_kws={\"fontsize\":12})\n",
    "ax.set(xlabel='Usage', ylabel='Association')\n",
    "plt.savefig(\"figures/nclassified_by_lang.pdf\",bbox_inches='tight')\n",
    "plt.show()\n",
    "\n"
   ]
  },
  {
   "cell_type": "code",
   "execution_count": 31,
   "id": "c46081ce-1d87-4039-85d5-bc0d415c4290",
   "metadata": {},
   "outputs": [
    {
     "data": {
      "image/png": "[encoded data removed]",
      "text/plain": [
       "<Figure size 360x288 with 2 Axes>"
      ]
     },
     "metadata": {
      "needs_background": "light"
     },
     "output_type": "display_data"
    }
   ],
   "source": [
    "fig, ax = plt.subplots(1, 1, sharey=False)\n",
    "\n",
    "fig.set_figheight(4)\n",
    "fig.set_figwidth(5)\n",
    "rank1_mtx = np.array([[usage_assoc_alignment[\"nkeywords\"][\"bayesian\"][\"r123\"][lang][lang2] for lang2 in languages] for lang in languages])\n",
    "ax = sns.heatmap(rank1_mtx, annot=True,  linewidths=.5, xticklabels=lang_ticks, yticklabels=lang_ticks, square=True, ax=ax, fmt='g',  cmap=\"YlGnBu\",\n",
    "                annot_kws={\"fontsize\":12})\n",
    "ax.set(xlabel='Usage', ylabel='Association')\n",
    "plt.savefig(\"figures/top100_by_lang_tuple.pdf\",bbox_inches='tight')\n",
    "plt.show()\n"
   ]
  },
  {
   "cell_type": "code",
   "execution_count": 32,
   "id": "bd72d619-3a7c-49d6-880a-c9b1dae88865",
   "metadata": {},
   "outputs": [
    {
     "data": {
      "image/png": "[encoded data removed]",
      "text/plain": [
       "<Figure size 360x288 with 2 Axes>"
      ]
     },
     "metadata": {
      "needs_background": "light"
     },
     "output_type": "display_data"
    }
   ],
   "source": [
    "from src.evaluation import pearson_correlation\n",
    "\n",
    "fig, ax = plt.subplots(1, 1, sharey=False)\n",
    "\n",
    "fig.set_figheight(4)\n",
    "fig.set_figwidth(5)\n",
    "rank1_mtx = np.array([[pearson_correlation(clf_ranks[\"bayesian\"][lang], clf_ranks['cr123ccuersc_fq'][lang2], label=None, verbose=False, outer=False)\n",
    "                      for lang2 in languages] for lang in languages])\n",
    "ax = sns.heatmap(rank1_mtx, annot=True,  linewidths=.5, xticklabels=lang_ticks, yticklabels=lang_ticks, square=True, ax=ax,  fmt='.2g',  cmap=\"YlGnBu\",\n",
    "                annot_kws={\"fontsize\":12})\n",
    "ax.set(xlabel='Usage', ylabel='Association')\n",
    "plt.savefig(\"figures/pairwise_sim_lang_assoc.pdf\",bbox_inches='tight')\n",
    "plt.show()"
   ]
  },
  {
   "cell_type": "markdown",
   "id": "6efcaaf1-fd2e-4c2e-b995-5c2749cd6b22",
   "metadata": {
    "tags": []
   },
   "source": [
    "#### 6. Cultural Keywords"
   ]
  },
  {
   "cell_type": "markdown",
   "id": "28cd687d-e588-4f83-a8e2-30b9b28e3744",
   "metadata": {},
   "source": [
    "Note that in all following analysis, bayesian scores based on response frequency of shared vocab are from rescaled cues"
   ]
  },
  {
   "cell_type": "code",
   "execution_count": 24,
   "id": "4807afb9-a8f0-4f61-89df-5b67746727f2",
   "metadata": {},
   "outputs": [],
   "source": [
    "from src.keywords import  load_and_translate_keywords\n",
    "\n",
    "_, _, _, _, available_keywords, internal_keywords, external_keywords = load_and_translate_keywords(strong_translations, languages, source, \n",
    "                                                                                                   wordlist[\"bayesian\"], \n",
    "                                                                                                   word_freq=word_stat[\"bayesian\"])\n",
    "    "
   ]
  },
  {
   "cell_type": "code",
   "execution_count": 25,
   "id": "a5b230d4-81f2-487b-8b7e-9bc1bcff1a4f",
   "metadata": {},
   "outputs": [
    {
     "name": "stdout",
     "output_type": "stream",
     "text": [
      "91\n",
      "72\n"
     ]
    }
   ],
   "source": [
    "print(sum([len(kwords) for kwords in internal_keywords.values()]))\n",
    "print(sum([len(kwords) for kwords in external_keywords.values()]))"
   ]
  },
  {
   "cell_type": "code",
   "execution_count": 26,
   "id": "b63c4d7f-17a5-4e74-b967-0cd1274018ed",
   "metadata": {},
   "outputs": [
    {
     "name": "stdout",
     "output_type": "stream",
     "text": [
      "Total number of external keywords and internal keywords compared\n",
      "en: 37, 70\n",
      "es: 12, 12\n",
      "nl: 4, 1\n",
      "zh: 19, 8\n"
     ]
    }
   ],
   "source": [
    "print(\"Total number of external keywords and internal keywords compared\")\n",
    "for lang, keywords in available_keywords.items():\n",
    "    print(\"{}: {}, {}\".format(lang, len(external_keywords[lang]), len(internal_keywords[lang])))\n",
    "    "
   ]
  },
  {
   "cell_type": "markdown",
   "id": "74967161-9846-44bf-808e-2f10a19d8c36",
   "metadata": {},
   "source": [
    "English keywords are pretty much overrepresented, which will favour methods that are bias towards the language"
   ]
  },
  {
   "cell_type": "markdown",
   "id": "820b84ea-84f0-45a2-be65-27722327818c",
   "metadata": {
    "tags": []
   },
   "source": [
    "##### Language classification of gold key words"
   ]
  },
  {
   "cell_type": "code",
   "execution_count": 156,
   "id": "8886dbea-bd29-4435-a0f9-c276448db35f",
   "metadata": {},
   "outputs": [
    {
     "name": "stdout",
     "output_type": "stream",
     "text": [
      "method                   : recall, mean rank (ext/int/overall)\n",
      "cr123ccuersc_fq          : (0.33/0.26/0.29), (2.17/2.48/2.34)\n",
      "cr123ccuersc_fq_random   : (0.15/0.20/0.18), (2.65/2.58/2.61)\n",
      "cr123ccuersc_fq_always_en: (0.51/0.77/0.66), (2.06/1.49/1.74)\n",
      "bayesian                 : (0.49/0.30/0.38), (1.85/2.18/2.03)\n",
      "usage_assoc_0.1          : (0.36/0.31/0.33), (2.12/2.40/2.28)\n",
      "usage_assoc_0.2          : (0.35/0.31/0.33), (2.08/2.38/2.25)\n",
      "usage_assoc_0.3          : (0.36/0.32/0.34), (2.07/2.32/2.21)\n",
      "usage_assoc_0.4          : (0.38/0.32/0.34), (2.03/2.32/2.19)\n",
      "usage_assoc_0.5          : (0.38/0.35/0.36), (2.00/2.20/2.11)\n",
      "usage_assoc_0.6          : (0.44/0.35/0.39), (1.93/2.19/2.07)\n",
      "usage_assoc_0.7          : (0.49/0.35/0.41), (1.79/2.16/2.00)\n",
      "usage_assoc_0.8          : (0.53/0.36/0.44), (1.79/2.13/1.98)\n",
      "usage_assoc_0.9          : (0.50/0.33/0.40), (1.78/2.16/1.99)\n"
     ]
    }
   ],
   "source": [
    "from src.evaluation import evaluate_keyword_classifications\n",
    "        \n",
    "evaluate_keyword_classifications(clf_ranks, external_keywords, internal_keywords, available_keywords)"
   ]
  },
  {
   "cell_type": "markdown",
   "id": "11660446-8fee-411a-82df-e139ef91acf3",
   "metadata": {
    "tags": []
   },
   "source": [
    "#### 7. Independence Tests"
   ]
  },
  {
   "cell_type": "code",
   "execution_count": 29,
   "id": "86593c10-f150-4d33-9c09-acffe0308190",
   "metadata": {},
   "outputs": [],
   "source": [
    "import random, math\n",
    "random.seed(2022)\n",
    "from src.evaluation import evaluate_by_keyword_categories_language, recall_mean_std_by_keyword_categories, sample_wordlist_with_replacement, \\\n",
    "expand_keywords, expand_tr_freq\n",
    "\n",
    "def evaluate_by_assoc_vocab(wordlist, original_tr_freq, recall_k=100, npartitions=10):\n",
    "    \n",
    "    def get_alpha_score_rank(freq, wordlist, smoothing, n):\n",
    "        alphas_ = get_alphas(preprocess_fq(freq), wordlist, smoothing_param)\n",
    "        score_ = final_score(freq, alphas_, wordlist, n)\n",
    "        rank_, rank_keyword_score_, _ = rank_keyword_score(wordlist, languages, score_)\n",
    "        _, _, word_sc_rank_ = sort_rank_by_score(rank_keyword_score_)\n",
    "        return score_, rank_, rank_keyword_score_, word_sc_rank_\n",
    "        \n",
    "    \n",
    "    \n",
    "    smoothing_param = assoc_smoothing_param\n",
    "    wordlist_clf_eval = []\n",
    "    wordlist_rank_eval = []\n",
    "\n",
    "    # wsamples_list = sample_wordlist(wordlist, npartitions, overlap=True, wreplacement=True, drop_ratio=0)\n",
    "    wsamples_list = sample_wordlist_with_replacement(wordlist, original_tr_freq, npartitions)\n",
    "    \n",
    "    \n",
    "    \n",
    "    for wsamples in wsamples_list:\n",
    "        tr_freq = expand_tr_freq(original_tr_freq, wsamples)\n",
    "        wordlist = get_wordlist(tr_freq, languages)\n",
    "        n = get_n(tr_freq)\n",
    "        \n",
    "        \n",
    "        usage_score, usage_rank, usage_rank_keyword_score, usage_word_sc_rank = get_alpha_score_rank(tr_freq, wordlist, smoothing_param, n)\n",
    "       \n",
    "        usage_lt_assoc_freq = expand_tr_freq(word_stat[\"usage_assoc_0.2\"], wsamples)\n",
    "        usage_lt_assoc_score, usage_lt_assoc_rank, usage_lt_assoc_rank_keyword_score, usage_lt_assoc_word_sc_rank  = get_alpha_score_rank(\n",
    "            usage_lt_assoc_freq, wordlist, smoothing_param, n)\n",
    "        \n",
    "        usage_gt_assoc_freq = expand_tr_freq(word_stat[\"usage_assoc_0.8\"], wsamples)\n",
    "        usage_gt_assoc_score, usage_gt_assoc_rank, usage_gt_assoc_rank_keyword_score, usage_gt_assoc_word_sc_rank = get_alpha_score_rank(\n",
    "            usage_gt_assoc_freq, wordlist, smoothing_param, n)\n",
    "        \n",
    "    \n",
    "        assoc_freq = expand_tr_freq(cr123ccuersc_fq, wsamples)\n",
    "        assoc_score, assoc_rank, assoc_rank_keyword_score, assoc_word_sc_rank = get_alpha_score_rank(assoc_freq, wordlist, smoothing_param, n)\n",
    "        \n",
    "        clf_ranks = {\"usage\": usage_rank, \"usage_lt_assoc\": usage_lt_assoc_rank, \"usage_gt_assoc\": usage_gt_assoc_rank, \"assoc\": assoc_rank}\n",
    "        clf_tuple = {\"usage\": sort_tuple_score(usage_score), \"assoc\": sort_tuple_score(assoc_score),\n",
    "                     \"usage_lt_assoc\": sort_tuple_score(usage_lt_assoc_score), \"usage_gt_assoc\": sort_tuple_score(usage_gt_assoc_score)}\n",
    "        \n",
    "        word_sc_rank = {\"usage\": usage_word_sc_rank, \"assoc\": assoc_word_sc_rank, \n",
    "                        \"usage_lt_assoc\": usage_lt_assoc_word_sc_rank, \"usage_gt_assoc\": usage_gt_assoc_word_sc_rank}\n",
    "        \n",
    "        cultural_keywords, concept_words_language, expected_keywords, all_keywords_en, available_keywords,\\\n",
    "        internal_keywords, external_keywords = load_and_translate_keywords(strong_translations, languages, \"en_lemma\", wordlist)   \n",
    "        \n",
    "        w_count = Counter(wsamples)\n",
    "        internal_keywords = expand_keywords(internal_keywords, w_count)\n",
    "        external_keywords = expand_keywords(external_keywords, w_count)\n",
    "        available_keywords = expand_keywords(available_keywords, w_count)\n",
    "        \n",
    "        int_ext_recall_mean_std = {}\n",
    "        recall = {}\n",
    "        for method, lang_word_rank in clf_ranks.items():\n",
    "            int_ext_recall_mean_std[method] = recall_mean_std_by_keyword_categories(external_keywords, internal_keywords, \n",
    "                                                                         available_keywords, lang_word_rank, \n",
    "                                                                         excluded_language=None)\n",
    "        \n",
    "        wordlist_clf_eval.append(int_ext_recall_mean_std)\n",
    "        \n",
    "        for method, tuple_score in clf_tuple.items():\n",
    "            recall[method] = get_recall_at_k(available_keywords, tuple_score)\n",
    "        # wordlist_rank_eval.append(get_recall_by_range_sum(external_keywords, internal_keywords, word_sc_rank, clf_ranks, recall_k))\n",
    "        wordlist_rank_eval.append(recall)\n",
    "    return wordlist_clf_eval, wordlist_rank_eval\n",
    "\n",
    "recall_k=1\n",
    "nsamples = 100\n",
    "wordlist_clf_eval, wordlist_rank_eval = evaluate_by_assoc_vocab(wordlist[\"bayesian\"], tr_freq, recall_k=recall_k, npartitions=nsamples)\n",
    "wordlist_rank_eval_exp = [{method: {\"all\": {\"sum\": recall}} for method, recall in rank_eval.items()} for rank_eval in wordlist_rank_eval ]"
   ]
  },
  {
   "cell_type": "markdown",
   "id": "df1ddc1e-9493-4cd6-ba18-99db22554e4f",
   "metadata": {},
   "source": [
    "USAGE_LT_ASSOC = 80% association data + 20% usage data <br>\n",
    "USAGE_GT_ASSOC = 80% usage data + 20% association data"
   ]
  },
  {
   "cell_type": "code",
   "execution_count": 464,
   "id": "7f8a7109-a8df-411d-8189-e91e1efb16b1",
   "metadata": {},
   "outputs": [
    {
     "name": "stdout",
     "output_type": "stream",
     "text": [
      "###### USAGE ######\n",
      "mean keyword classification   : mean=2.0343944848380136, std=0.08196266463730759\n",
      "correct keyword classification: mean=0.3834258283127253, std=0.04045232080069833\n",
      "recall@500                    : mean=0.10809160078016442, std=0.027302708369264655\n",
      "\n",
      "###### ASSOC ######\n",
      "mean keyword classification   : mean=2.339180975572763, std=0.09703371851382958\n",
      "correct keyword classification: mean=0.29087109666456096, std=0.03848672904341755\n",
      "recall@500                    : mean=0.13682851516989447, std=0.026885993194775852\n",
      "\n",
      "###### USAGE_LT_ASSOC ######\n",
      "mean keyword classification   : mean=2.241987793113166, std=0.09282358887314324\n",
      "correct keyword classification: mean=0.3273449181330092, std=0.03901447680616413\n",
      "recall@500                    : mean=0.14243823053259846, std=0.025320270029211382\n",
      "\n",
      "###### USAGE_GT_ASSOC ######\n",
      "mean keyword classification   : mean=2.0068077358095286, std=0.09126837573974382\n",
      "correct keyword classification: mean=0.41492099417015416, std=0.04370272082516488\n",
      "recall@500                    : mean=0.10750373776718224, std=0.02729077394491114\n",
      "\n"
     ]
    }
   ],
   "source": [
    "from src.evaluation import pvalue_by_wordlist, sample_mean_stddev\n",
    "rank_eval_idx=500\n",
    "metric_names={\"clf-all-mean\": \"mean keyword classification\", \"clf-all-recall\": \"correct keyword classification\", \"rank-all-recall\":f\"recall@{rank_eval_idx}\", } \n",
    "method_list = [\"usage\", \"assoc\", \"usage_lt_assoc\", \"usage_gt_assoc\"]\n",
    "\n",
    "mean_stddev = {}\n",
    "for met in method_list:\n",
    "    mean_stddev[met] = sample_mean_stddev(met, wordlist_clf_eval, wordlist_rank_eval_exp, metrics=[ \"clf\", \"rank\"], rank_eval_idx=rank_eval_idx) \n",
    "    \n",
    "longest = max([len(name) for name in metric_names.values()])\n",
    "for met, m_std in mean_stddev.items():\n",
    "    print(f\"###### {met.upper()} ######\")\n",
    "    for metric, mean in m_std[\"mean\"].items():\n",
    "        print(f\"{metric_names.get(metric, metric)}{' '*(longest-len(metric_names.get(metric, metric)))}: mean={mean}, std={m_std['stddev'][metric]}\")\n",
    "    print()"
   ]
  },
  {
   "cell_type": "code",
   "execution_count": 33,
   "id": "30f03ca1-730e-43c3-a2fa-29b0d74c5213",
   "metadata": {},
   "outputs": [],
   "source": [
    "from src.evaluation import pvalue_by_wordlist\n",
    "import itertools\n",
    "\n",
    "method_pairs = list(itertools.combinations(method_list, 2))\n",
    "clf_rank_pair_pvalue = pvalue_by_wordlist(method_pairs, wordlist_clf_eval, wordlist_rank_eval_exp, metrics=[\"rank\", \"clf\"], rank_eval_idx=rank_eval_idx)"
   ]
  },
  {
   "cell_type": "code",
   "execution_count": 466,
   "id": "ceca5574-06db-4e1f-9e96-c0f84ba63f4e",
   "metadata": {},
   "outputs": [
    {
     "name": "stdout",
     "output_type": "stream",
     "text": [
      "p-value over 100 repeated samples for comparison in classification and rank \n",
      "\n",
      "##### USAGE vs. ASSOC #####\n",
      "recall@500                    : 0.8\n",
      "mean keyword classification   : 1.0\n",
      "correct keyword classification: 0.01\n",
      "\n",
      "##### USAGE vs. USAGE_LT_ASSOC #####\n",
      "recall@500                    : 0.86\n",
      "mean keyword classification   : 1.0\n",
      "correct keyword classification: 0.06\n",
      "\n",
      "##### USAGE vs. USAGE_GT_ASSOC #####\n",
      "recall@500                    : 0.37\n",
      "mean keyword classification   : 0.23\n",
      "correct keyword classification: 0.81\n",
      "\n",
      "##### ASSOC vs. USAGE_LT_ASSOC #####\n",
      "recall@500                    : 0.61\n",
      "mean keyword classification   : 0.0\n",
      "correct keyword classification: 0.99\n",
      "\n",
      "##### ASSOC vs. USAGE_GT_ASSOC #####\n",
      "recall@500                    : 0.13\n",
      "mean keyword classification   : 0.0\n",
      "correct keyword classification: 1.0\n",
      "\n",
      "##### USAGE_LT_ASSOC vs. USAGE_GT_ASSOC #####\n",
      "recall@500                    : 0.06\n",
      "mean keyword classification   : 0.0\n",
      "correct keyword classification: 1.0\n",
      "\n"
     ]
    }
   ],
   "source": [
    "print(f\"p-value over {nsamples} repeated samples for comparison in classification and rank \\n\")\n",
    "longest = max([len(met) for met in metric_names.values()])\n",
    "for clf_pair, result in clf_rank_pair_pvalue.items():\n",
    "    print(f\"##### {clf_pair.split('-')[0].upper()} vs. {clf_pair.split('-')[1].upper()} #####\")\n",
    "    \n",
    "    for metric, res in result.items():\n",
    "        try:\n",
    "            print(f\"{metric_names.get(metric, metric)}{' '*(longest-len(metric_names.get(metric, metric)))}: {res.statistic}, pval={res.pvalue}\")\n",
    "        except:\n",
    "            print(f\"{metric_names.get(metric, metric)}{' '*(longest-len(metric_names.get(metric, metric)))}: {res}\")\n",
    "    print()"
   ]
  },
  {
   "cell_type": "code",
   "execution_count": 492,
   "id": "23a89086-7921-43b2-bcd0-d8aa2e6cbd08",
   "metadata": {},
   "outputs": [
    {
     "data": {
      "text/plain": [
       "0.18999999999999995"
      ]
     },
     "execution_count": 492,
     "metadata": {},
     "output_type": "execute_result"
    }
   ],
   "source": [
    "1-0.81"
   ]
  },
  {
   "cell_type": "code",
   "execution_count": 34,
   "id": "c4badc3e-ffe1-47b9-a06f-ed533301b28b",
   "metadata": {},
   "outputs": [],
   "source": [
    "wordlist_rank_eval_steps = {method: np.array([reval[method][\"all\"][\"sum\"] for reval in wordlist_rank_eval_exp]).T for method in wordlist_rank_eval_exp[0].keys()}   # (steps, samples)\n",
    "rank_mean_estimate = {method: np.mean(wordlist_rank_eval_steps[method], axis=1) for method in wordlist_rank_eval[0].keys()}\n",
    "rank_stde_estimate = {method: np.std(wordlist_rank_eval_steps[method], axis=1)/np.sqrt(nsamples) for method in wordlist_rank_eval[0].keys()}\n",
    "\n",
    "error_estimate = {method: (rank_mean_estimate[method]-rank_stde_estimate[method], rank_mean_estimate[method]+rank_stde_estimate[method]) for method in wordlist_rank_eval[0].keys()}\n",
    "clf_recall = {clf: get_recall_at_k(available_keywords, rank) for clf, rank in clf_tuple.items()}"
   ]
  },
  {
   "cell_type": "code",
   "execution_count": 35,
   "id": "f948ca63-fae9-4c25-b751-270edbf31e22",
   "metadata": {},
   "outputs": [
    {
     "data": {
      "image/png": "[encoded data removed]",
      "text/plain": [
       "<Figure size 720x432 with 2 Axes>"
      ]
     },
     "metadata": {
      "needs_background": "light"
     },
     "output_type": "display_data"
    }
   ],
   "source": [
    "import warnings\n",
    "warnings.filterwarnings('ignore')\n",
    "from src.visualisation import compare_recall_ranks_all_methods_inset\n",
    "top_n = 500\n",
    "\n",
    "usage_assoc_met = \"usage_assoc_0.6\"\n",
    "compare_recall_ranks_all_methods_inset(clf_recall, top_n=top_n, \n",
    "                                       inset_range=[0, top_n, 0, 0.15],\n",
    "                                        method_style_dict={\"bayesian\": \"k-\", \"cr123ccuersc_fq\":\"k-\", \"usage_assoc_0.2\": 'k--', \"usage_assoc_0.8\": 'k--'},\n",
    "                                        method_label_dict={\"bayesian\": \"usage\", \"usage_assoc_0.2\" : '20% usage + 80% association',\n",
    "                                                    \"cr123ccuersc_fq\":\"association\", \"usage_assoc_0.8\" : '80% usage + 20% association'},\n",
    "                                        method_colour_dict={\"bayesian\": \"tab:blue\", \"usage_assoc_0.2\" : 'tab:orange',\n",
    "                                                     \"cr123ccuersc_fq\":\"tab:red\", \"usage_assoc_0.8\" : 'tab:green'}, \n",
    "                                       fill_between={\"bayesian\": error_estimate[\"usage\"], \n",
    "                                                     \"cr123ccuersc_fq\": error_estimate[\"assoc\"],\n",
    "                                                    \"usage_assoc_0.2\": error_estimate[\"usage_lt_assoc\"],\n",
    "                                                    \"usage_assoc_0.8\": error_estimate[\"usage_gt_assoc\"]}\n",
    "                                      )\n",
    "                \n",
    "\n",
    "# plt.savefig(\"figures/usage_assoc_tuple_recall_ranks_inset_stderror.pdf\")"
   ]
  }
 ],
 "metadata": {
  "kernelspec": {
   "display_name": "Python 3 (ipykernel)",
   "language": "python",
   "name": "python3"
  },
  "language_info": {
   "codemirror_mode": {
    "name": "ipython",
    "version": 3
   },
   "file_extension": ".py",
   "mimetype": "text/x-python",
   "name": "python",
   "nbconvert_exporter": "python",
   "pygments_lexer": "ipython3",
   "version": "3.9.7"
  }
 },
 "nbformat": 4,
 "nbformat_minor": 5
}
